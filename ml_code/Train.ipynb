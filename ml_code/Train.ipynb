{
  "nbformat": 4,
  "nbformat_minor": 0,
  "metadata": {
    "colab": {
      "name": "Train.ipynb",
      "provenance": []
    },
    "kernelspec": {
      "name": "python3",
      "display_name": "Python 3"
    },
    "accelerator": "GPU"
  },
  "cells": [
    {
      "cell_type": "markdown",
      "metadata": {
        "id": "dJ_zL7FbsP61",
        "colab_type": "text"
      },
      "source": [
        "# Training an MNIST"
      ]
    },
    {
      "cell_type": "code",
      "metadata": {
        "id": "zrxVNC86r2VO",
        "colab_type": "code",
        "colab": {
          "base_uri": "https://localhost:8080/",
          "height": 36
        },
        "outputId": "a66f7ed6-4bf2-424d-ec98-24ae46babdfb"
      },
      "source": [
        "import tensorflow as tf\n",
        "print(tf.__version__)"
      ],
      "execution_count": 78,
      "outputs": [
        {
          "output_type": "stream",
          "text": [
            "2.2.0-rc4\n"
          ],
          "name": "stdout"
        }
      ]
    },
    {
      "cell_type": "code",
      "metadata": {
        "id": "bFTfkjSQ20N5",
        "colab_type": "code",
        "colab": {}
      },
      "source": [
        "import numpy as np"
      ],
      "execution_count": 0,
      "outputs": []
    },
    {
      "cell_type": "code",
      "metadata": {
        "id": "J3fZtkarsYc-",
        "colab_type": "code",
        "colab": {}
      },
      "source": [
        "import tensorflow_datasets as tfds"
      ],
      "execution_count": 0,
      "outputs": []
    },
    {
      "cell_type": "code",
      "metadata": {
        "id": "REMCEgaGsg-j",
        "colab_type": "code",
        "colab": {}
      },
      "source": [
        "(x_train, y_train), (x_test, y_test) = tf.keras.datasets.mnist.load_data()"
      ],
      "execution_count": 0,
      "outputs": []
    },
    {
      "cell_type": "code",
      "metadata": {
        "id": "vFre7vOougWF",
        "colab_type": "code",
        "colab": {}
      },
      "source": [
        "from tensorflow.keras import Sequential\n",
        "from tensorflow.keras import layers"
      ],
      "execution_count": 0,
      "outputs": []
    },
    {
      "cell_type": "code",
      "metadata": {
        "id": "LwYKEFChz4j0",
        "colab_type": "code",
        "colab": {}
      },
      "source": [
        "from tensorflow.keras.callbacks import ModelCheckpoint"
      ],
      "execution_count": 0,
      "outputs": []
    },
    {
      "cell_type": "code",
      "metadata": {
        "id": "geDVdewNtBGN",
        "colab_type": "code",
        "colab": {
          "base_uri": "https://localhost:8080/",
          "height": 73
        },
        "outputId": "754635cb-d90f-47ab-8a10-295c2365d02a"
      },
      "source": [
        "print(x_train.shape)\n",
        "print(x_test.shape)\n",
        "print(y_train.shape)"
      ],
      "execution_count": 124,
      "outputs": [
        {
          "output_type": "stream",
          "text": [
            "(60000, 28, 28)\n",
            "(10000, 28, 28)\n",
            "(60000,)\n"
          ],
          "name": "stdout"
        }
      ]
    },
    {
      "cell_type": "code",
      "metadata": {
        "id": "TUsMwuE84qvI",
        "colab_type": "code",
        "colab": {
          "base_uri": "https://localhost:8080/",
          "height": 36
        },
        "outputId": "1174cec4-6bde-40f0-dbda-7637b913b9d0"
      },
      "source": [
        "print(type(x_train))"
      ],
      "execution_count": 125,
      "outputs": [
        {
          "output_type": "stream",
          "text": [
            "<class 'numpy.ndarray'>\n"
          ],
          "name": "stdout"
        }
      ]
    },
    {
      "cell_type": "code",
      "metadata": {
        "id": "nYW9IC2J_EwF",
        "colab_type": "code",
        "colab": {
          "base_uri": "https://localhost:8080/",
          "height": 36
        },
        "outputId": "32202857-1a91-4d2a-ab86-d5c40ce89a8a"
      },
      "source": [
        "print(type(x_test))"
      ],
      "execution_count": 126,
      "outputs": [
        {
          "output_type": "stream",
          "text": [
            "<class 'numpy.ndarray'>\n"
          ],
          "name": "stdout"
        }
      ]
    },
    {
      "cell_type": "code",
      "metadata": {
        "id": "uZIhKB6jtsAW",
        "colab_type": "code",
        "colab": {}
      },
      "source": [
        "x_train = np.expand_dims(x_train, axis=-1)\n",
        "x_test = np.expand_dims(x_test, axis=-1)"
      ],
      "execution_count": 0,
      "outputs": []
    },
    {
      "cell_type": "code",
      "metadata": {
        "id": "Bg05xKeft69h",
        "colab_type": "code",
        "colab": {
          "base_uri": "https://localhost:8080/",
          "height": 110
        },
        "outputId": "c73a5b9c-7672-48b0-a22d-5ec33d00d40d"
      },
      "source": [
        "print(x_train.shape)\n",
        "print(x_train.dtype)\n",
        "print(x_test.dtype)\n",
        "print(x_test.shape)\n",
        "print(y_train.shape)"
      ],
      "execution_count": 128,
      "outputs": [
        {
          "output_type": "stream",
          "text": [
            "(60000, 28, 28, 1)\n",
            "uint8\n",
            "uint8\n",
            "(10000, 28, 28, 1)\n",
            "(60000,)\n"
          ],
          "name": "stdout"
        }
      ]
    },
    {
      "cell_type": "code",
      "metadata": {
        "id": "Ka68FizR4RRf",
        "colab_type": "code",
        "colab": {}
      },
      "source": [
        "num_classes = 10"
      ],
      "execution_count": 0,
      "outputs": []
    },
    {
      "cell_type": "code",
      "metadata": {
        "id": "6jhgR1zi-xxx",
        "colab_type": "code",
        "colab": {
          "base_uri": "https://localhost:8080/",
          "height": 54
        },
        "outputId": "09a65347-dc7c-4d8c-bda0-dd5364afba93"
      },
      "source": [
        "x_test = x_test.astype(np.float32)\n",
        "x_test = x_test / 255.\n",
        "print(type(x_test))\n",
        "print(type(x_train))"
      ],
      "execution_count": 130,
      "outputs": [
        {
          "output_type": "stream",
          "text": [
            "<class 'numpy.ndarray'>\n",
            "<class 'numpy.ndarray'>\n"
          ],
          "name": "stdout"
        }
      ]
    },
    {
      "cell_type": "code",
      "metadata": {
        "id": "iBGPtUkE4LAT",
        "colab_type": "code",
        "colab": {}
      },
      "source": [
        "# convert class vectors to binary class matrices\n",
        "y_train = tf.keras.utils.to_categorical(y_train, num_classes)\n",
        "y_test = tf.keras.utils.to_categorical(y_test, num_classes)"
      ],
      "execution_count": 0,
      "outputs": []
    },
    {
      "cell_type": "code",
      "metadata": {
        "id": "nkAskVw53cQX",
        "colab_type": "code",
        "colab": {
          "base_uri": "https://localhost:8080/",
          "height": 36
        },
        "outputId": "891c4c14-921b-4171-bcd9-43b6b4e7f13a"
      },
      "source": [
        "print(type(x_train))"
      ],
      "execution_count": 132,
      "outputs": [
        {
          "output_type": "stream",
          "text": [
            "<class 'numpy.ndarray'>\n"
          ],
          "name": "stdout"
        }
      ]
    },
    {
      "cell_type": "markdown",
      "metadata": {
        "id": "im-C0hk_uIQT",
        "colab_type": "text"
      },
      "source": [
        "# Do some data Augmentation"
      ]
    },
    {
      "cell_type": "code",
      "metadata": {
        "id": "UJLk-WPSxjra",
        "colab_type": "code",
        "colab": {}
      },
      "source": [
        "train_datagen = tf.keras.preprocessing.image.ImageDataGenerator(featurewise_center=False, samplewise_center=False, \n",
        "                                                          featurewise_std_normalization=False, samplewise_std_normalization=False, \n",
        "                                                          zca_whitening=False, zca_epsilon=1e-06, \n",
        "                                                          rotation_range=20, width_shift_range=0.2, height_shift_range=0.2, \n",
        "                                                          brightness_range=None, shear_range=0.2, zoom_range=0.3, channel_shift_range=0.0, \n",
        "                                                          fill_mode='nearest', cval=0.0, horizontal_flip=False, \n",
        "                                                          vertical_flip=False, rescale=1/255., preprocessing_function=None, data_format=None, \n",
        "                                                          validation_split=0.2, dtype=None)"
      ],
      "execution_count": 0,
      "outputs": []
    },
    {
      "cell_type": "code",
      "metadata": {
        "id": "6eG7UYM0yHro",
        "colab_type": "code",
        "colab": {}
      },
      "source": [
        "train_datagen.fit(x_train)"
      ],
      "execution_count": 0,
      "outputs": []
    },
    {
      "cell_type": "markdown",
      "metadata": {
        "id": "xpgC_Tw-wVeP",
        "colab_type": "text"
      },
      "source": [
        "# Build a CNN"
      ]
    },
    {
      "cell_type": "code",
      "metadata": {
        "id": "AblGUtWhuG5R",
        "colab_type": "code",
        "colab": {}
      },
      "source": [
        "def make_cnn():\n",
        "    model = Sequential()\n",
        "    model.add(layers.Conv2D(32, (3, 3), activation='relu', input_shape=(28, 28, 1)))\n",
        "    model.add(layers.MaxPooling2D((2, 2)))\n",
        "    model.add(layers.Dropout(0.3))\n",
        "    model.add(layers.Conv2D(64, (3, 3), activation='relu'))\n",
        "    model.add(layers.MaxPooling2D((2, 2)))\n",
        "    model.add(layers.Conv2D(64, (3, 3), activation='relu'))\n",
        "    model.add(layers.Conv2D(64, (3, 3), activation='relu'))\n",
        "\n",
        "    model.add(layers.Dropout(0.3))\n",
        "    model.add(layers.Flatten())\n",
        "    model.add(layers.Dense(256, activation='relu'))\n",
        "    model.add(layers.Dropout(0.3))\n",
        "    model.add(layers.Dense(10))\n",
        "\n",
        "    return model"
      ],
      "execution_count": 0,
      "outputs": []
    },
    {
      "cell_type": "code",
      "metadata": {
        "id": "cG6Ug1-hvPQC",
        "colab_type": "code",
        "colab": {}
      },
      "source": [
        "cnn = make_cnn()"
      ],
      "execution_count": 0,
      "outputs": []
    },
    {
      "cell_type": "code",
      "metadata": {
        "id": "SVHPUBRyvSF9",
        "colab_type": "code",
        "colab": {}
      },
      "source": [
        "cnn.summary()"
      ],
      "execution_count": 0,
      "outputs": []
    },
    {
      "cell_type": "code",
      "metadata": {
        "id": "AkTcaAQ9xCPp",
        "colab_type": "code",
        "colab": {}
      },
      "source": [
        "optim = tf.keras.optimizers.Adam()"
      ],
      "execution_count": 0,
      "outputs": []
    },
    {
      "cell_type": "code",
      "metadata": {
        "id": "PzmV_6C0xHpe",
        "colab_type": "code",
        "colab": {}
      },
      "source": [
        "loss_f = tf.keras.losses.BinaryCrossentropy(from_logits=True)"
      ],
      "execution_count": 0,
      "outputs": []
    },
    {
      "cell_type": "code",
      "metadata": {
        "id": "z-OKmP8Pw_rO",
        "colab_type": "code",
        "colab": {}
      },
      "source": [
        "cnn.compile(optimizer=optim, loss=loss_f, metrics=[\"acc\"])"
      ],
      "execution_count": 0,
      "outputs": []
    },
    {
      "cell_type": "code",
      "metadata": {
        "id": "8rfUQH19zrQt",
        "colab_type": "code",
        "colab": {}
      },
      "source": [
        "epochs = 25"
      ],
      "execution_count": 0,
      "outputs": []
    },
    {
      "cell_type": "code",
      "metadata": {
        "id": "MV7i6GYr2XpT",
        "colab_type": "code",
        "colab": {}
      },
      "source": [
        "batch_size = 32"
      ],
      "execution_count": 0,
      "outputs": []
    },
    {
      "cell_type": "code",
      "metadata": {
        "id": "00VIO2hZz3qN",
        "colab_type": "code",
        "colab": {}
      },
      "source": [
        "ckpt = ModelCheckpoint(\"model.h5\", monitor=\"val_loss\", verbose=1, save_best_only=True)\n",
        "callbacksl = [ckpt]"
      ],
      "execution_count": 0,
      "outputs": []
    },
    {
      "cell_type": "code",
      "metadata": {
        "id": "HBUss1mAxTUF",
        "colab_type": "code",
        "colab": {
          "base_uri": "https://localhost:8080/",
          "height": 1000
        },
        "outputId": "1bbbdaaa-c3e6-4094-d219-48f925e458b9"
      },
      "source": [
        "history = cnn.fit(\n",
        "    train_datagen.flow(x_train, y_train, batch_size=32),\n",
        "    steps_per_epoch= x_train.shape[0] // batch_size,\n",
        "    epochs=epochs, batch_size = batch_size, callbacks=callbacksl, validation_data = (x_test, y_test)\n",
        "    )\n",
        "    \n"
      ],
      "execution_count": 145,
      "outputs": [
        {
          "output_type": "stream",
          "text": [
            "Epoch 1/25\n",
            "1874/1875 [============================>.] - ETA: 0s - loss: 0.1723 - acc: 0.6208\n",
            "Epoch 00001: val_loss improved from inf to 0.02975, saving model to model.h5\n",
            "1875/1875 [==============================] - 36s 19ms/step - loss: 0.1722 - acc: 0.6209 - val_loss: 0.0297 - val_acc: 0.9471\n",
            "Epoch 2/25\n",
            "1874/1875 [============================>.] - ETA: 0s - loss: 0.0693 - acc: 0.8798\n",
            "Epoch 00002: val_loss improved from 0.02975 to 0.01650, saving model to model.h5\n",
            "1875/1875 [==============================] - 36s 19ms/step - loss: 0.0692 - acc: 0.8798 - val_loss: 0.0165 - val_acc: 0.9732\n",
            "Epoch 3/25\n",
            "1875/1875 [==============================] - ETA: 0s - loss: 0.0513 - acc: 0.9132\n",
            "Epoch 00003: val_loss improved from 0.01650 to 0.00967, saving model to model.h5\n",
            "1875/1875 [==============================] - 35s 19ms/step - loss: 0.0513 - acc: 0.9132 - val_loss: 0.0097 - val_acc: 0.9840\n",
            "Epoch 4/25\n",
            "1874/1875 [============================>.] - ETA: 0s - loss: 0.0437 - acc: 0.9261\n",
            "Epoch 00004: val_loss did not improve from 0.00967\n",
            "1875/1875 [==============================] - 35s 19ms/step - loss: 0.0437 - acc: 0.9261 - val_loss: 0.0103 - val_acc: 0.9819\n",
            "Epoch 5/25\n",
            "1875/1875 [==============================] - ETA: 0s - loss: 0.0388 - acc: 0.9357\n",
            "Epoch 00005: val_loss improved from 0.00967 to 0.00888, saving model to model.h5\n",
            "1875/1875 [==============================] - 36s 19ms/step - loss: 0.0388 - acc: 0.9357 - val_loss: 0.0089 - val_acc: 0.9866\n",
            "Epoch 6/25\n",
            "1875/1875 [==============================] - ETA: 0s - loss: 0.0352 - acc: 0.9421\n",
            "Epoch 00006: val_loss improved from 0.00888 to 0.00645, saving model to model.h5\n",
            "1875/1875 [==============================] - 35s 19ms/step - loss: 0.0352 - acc: 0.9421 - val_loss: 0.0064 - val_acc: 0.9895\n",
            "Epoch 7/25\n",
            "1873/1875 [============================>.] - ETA: 0s - loss: 0.0328 - acc: 0.9460\n",
            "Epoch 00007: val_loss improved from 0.00645 to 0.00630, saving model to model.h5\n",
            "1875/1875 [==============================] - 36s 19ms/step - loss: 0.0328 - acc: 0.9461 - val_loss: 0.0063 - val_acc: 0.9897\n",
            "Epoch 8/25\n",
            "1872/1875 [============================>.] - ETA: 0s - loss: 0.0303 - acc: 0.9511\n",
            "Epoch 00008: val_loss did not improve from 0.00630\n",
            "1875/1875 [==============================] - 35s 19ms/step - loss: 0.0303 - acc: 0.9510 - val_loss: 0.0099 - val_acc: 0.9821\n",
            "Epoch 9/25\n",
            "1875/1875 [==============================] - ETA: 0s - loss: 0.0298 - acc: 0.9523\n",
            "Epoch 00009: val_loss did not improve from 0.00630\n",
            "1875/1875 [==============================] - 36s 19ms/step - loss: 0.0298 - acc: 0.9523 - val_loss: 0.0065 - val_acc: 0.9895\n",
            "Epoch 10/25\n",
            "1874/1875 [============================>.] - ETA: 0s - loss: 0.0279 - acc: 0.9548\n",
            "Epoch 00010: val_loss did not improve from 0.00630\n",
            "1875/1875 [==============================] - 35s 19ms/step - loss: 0.0279 - acc: 0.9548 - val_loss: 0.0071 - val_acc: 0.9903\n",
            "Epoch 11/25\n",
            "1873/1875 [============================>.] - ETA: 0s - loss: 0.0272 - acc: 0.9573\n",
            "Epoch 00011: val_loss improved from 0.00630 to 0.00544, saving model to model.h5\n",
            "1875/1875 [==============================] - 36s 19ms/step - loss: 0.0272 - acc: 0.9572 - val_loss: 0.0054 - val_acc: 0.9913\n",
            "Epoch 12/25\n",
            "1873/1875 [============================>.] - ETA: 0s - loss: 0.0264 - acc: 0.9568\n",
            "Epoch 00012: val_loss did not improve from 0.00544\n",
            "1875/1875 [==============================] - 36s 19ms/step - loss: 0.0264 - acc: 0.9568 - val_loss: 0.0074 - val_acc: 0.9873\n",
            "Epoch 13/25\n",
            "1874/1875 [============================>.] - ETA: 0s - loss: 0.0255 - acc: 0.9591\n",
            "Epoch 00013: val_loss did not improve from 0.00544\n",
            "1875/1875 [==============================] - 36s 19ms/step - loss: 0.0255 - acc: 0.9591 - val_loss: 0.0087 - val_acc: 0.9854\n",
            "Epoch 14/25\n",
            "1874/1875 [============================>.] - ETA: 0s - loss: 0.0254 - acc: 0.9602\n",
            "Epoch 00014: val_loss improved from 0.00544 to 0.00493, saving model to model.h5\n",
            "1875/1875 [==============================] - 35s 19ms/step - loss: 0.0254 - acc: 0.9602 - val_loss: 0.0049 - val_acc: 0.9924\n",
            "Epoch 15/25\n",
            "1875/1875 [==============================] - ETA: 0s - loss: 0.0242 - acc: 0.9614\n",
            "Epoch 00015: val_loss did not improve from 0.00493\n",
            "1875/1875 [==============================] - 35s 19ms/step - loss: 0.0242 - acc: 0.9614 - val_loss: 0.0062 - val_acc: 0.9893\n",
            "Epoch 16/25\n",
            "1873/1875 [============================>.] - ETA: 0s - loss: 0.0242 - acc: 0.9613\n",
            "Epoch 00016: val_loss did not improve from 0.00493\n",
            "1875/1875 [==============================] - 36s 19ms/step - loss: 0.0242 - acc: 0.9614 - val_loss: 0.0054 - val_acc: 0.9922\n",
            "Epoch 17/25\n",
            "1874/1875 [============================>.] - ETA: 0s - loss: 0.0244 - acc: 0.9604\n",
            "Epoch 00017: val_loss did not improve from 0.00493\n",
            "1875/1875 [==============================] - 35s 19ms/step - loss: 0.0244 - acc: 0.9604 - val_loss: 0.0062 - val_acc: 0.9897\n",
            "Epoch 18/25\n",
            "1874/1875 [============================>.] - ETA: 0s - loss: 0.0231 - acc: 0.9635\n",
            "Epoch 00018: val_loss did not improve from 0.00493\n",
            "1875/1875 [==============================] - 35s 19ms/step - loss: 0.0231 - acc: 0.9635 - val_loss: 0.0052 - val_acc: 0.9913\n",
            "Epoch 19/25\n",
            "1873/1875 [============================>.] - ETA: 0s - loss: 0.0231 - acc: 0.9635\n",
            "Epoch 00019: val_loss did not improve from 0.00493\n",
            "1875/1875 [==============================] - 37s 20ms/step - loss: 0.0231 - acc: 0.9636 - val_loss: 0.0060 - val_acc: 0.9903\n",
            "Epoch 20/25\n",
            "1874/1875 [============================>.] - ETA: 0s - loss: 0.0223 - acc: 0.9647\n",
            "Epoch 00020: val_loss did not improve from 0.00493\n",
            "1875/1875 [==============================] - 35s 19ms/step - loss: 0.0222 - acc: 0.9647 - val_loss: 0.0069 - val_acc: 0.9885\n",
            "Epoch 21/25\n",
            "1874/1875 [============================>.] - ETA: 0s - loss: 0.0235 - acc: 0.9634\n",
            "Epoch 00021: val_loss did not improve from 0.00493\n",
            "1875/1875 [==============================] - 34s 18ms/step - loss: 0.0235 - acc: 0.9634 - val_loss: 0.0055 - val_acc: 0.9916\n",
            "Epoch 22/25\n",
            "1873/1875 [============================>.] - ETA: 0s - loss: 0.0224 - acc: 0.9653\n",
            "Epoch 00022: val_loss did not improve from 0.00493\n",
            "1875/1875 [==============================] - 35s 19ms/step - loss: 0.0224 - acc: 0.9653 - val_loss: 0.0051 - val_acc: 0.9913\n",
            "Epoch 23/25\n",
            "1873/1875 [============================>.] - ETA: 0s - loss: 0.0221 - acc: 0.9649\n",
            "Epoch 00023: val_loss improved from 0.00493 to 0.00440, saving model to model.h5\n",
            "1875/1875 [==============================] - 36s 19ms/step - loss: 0.0221 - acc: 0.9650 - val_loss: 0.0044 - val_acc: 0.9925\n",
            "Epoch 24/25\n",
            "1872/1875 [============================>.] - ETA: 0s - loss: 0.0225 - acc: 0.9652\n",
            "Epoch 00024: val_loss did not improve from 0.00440\n",
            "1875/1875 [==============================] - 35s 19ms/step - loss: 0.0225 - acc: 0.9652 - val_loss: 0.0048 - val_acc: 0.9923\n",
            "Epoch 25/25\n",
            "1874/1875 [============================>.] - ETA: 0s - loss: 0.0215 - acc: 0.9663\n",
            "Epoch 00025: val_loss did not improve from 0.00440\n",
            "1875/1875 [==============================] - 37s 20ms/step - loss: 0.0215 - acc: 0.9663 - val_loss: 0.0048 - val_acc: 0.9922\n"
          ],
          "name": "stdout"
        }
      ]
    },
    {
      "cell_type": "code",
      "metadata": {
        "id": "yM3aTh3a26fu",
        "colab_type": "code",
        "colab": {}
      },
      "source": [
        "# not required thoough\n",
        "tf.keras.models.save_model(\n",
        "    cnn, \"/content/final_model.h5\", overwrite=True, include_optimizer=True, save_format=None,\n",
        "    signatures=None, options=None\n",
        ")"
      ],
      "execution_count": 0,
      "outputs": []
    },
    {
      "cell_type": "code",
      "metadata": {
        "id": "iGQPh6q-HTYs",
        "colab_type": "code",
        "colab": {}
      },
      "source": [
        ""
      ],
      "execution_count": 0,
      "outputs": []
    }
  ]
}
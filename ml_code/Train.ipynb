{
  "nbformat": 4,
  "nbformat_minor": 0,
  "metadata": {
    "colab": {
      "name": "Train.ipynb",
      "provenance": [],
      "toc_visible": true
    },
    "kernelspec": {
      "name": "python3",
      "display_name": "Python 3"
    },
    "accelerator": "GPU"
  },
  "cells": [
    {
      "cell_type": "markdown",
      "metadata": {
        "id": "dJ_zL7FbsP61",
        "colab_type": "text"
      },
      "source": [
        "# Training an MNIST"
      ]
    },
    {
      "cell_type": "code",
      "metadata": {
        "id": "zrxVNC86r2VO",
        "colab_type": "code",
        "outputId": "f5903566-a6f2-4cfc-e6bc-0293aebcb41f",
        "colab": {
          "base_uri": "https://localhost:8080/",
          "height": 36
        }
      },
      "source": [
        "import tensorflow as tf\n",
        "print(tf.__version__)"
      ],
      "execution_count": 1,
      "outputs": [
        {
          "output_type": "stream",
          "text": [
            "2.2.0\n"
          ],
          "name": "stdout"
        }
      ]
    },
    {
      "cell_type": "code",
      "metadata": {
        "id": "bFTfkjSQ20N5",
        "colab_type": "code",
        "colab": {}
      },
      "source": [
        "import numpy as np"
      ],
      "execution_count": 0,
      "outputs": []
    },
    {
      "cell_type": "code",
      "metadata": {
        "id": "BN5XluHO7oxl",
        "colab_type": "code",
        "colab": {}
      },
      "source": [
        "import os"
      ],
      "execution_count": 0,
      "outputs": []
    },
    {
      "cell_type": "code",
      "metadata": {
        "id": "J3fZtkarsYc-",
        "colab_type": "code",
        "colab": {}
      },
      "source": [
        "import tensorflow_datasets as tfds"
      ],
      "execution_count": 0,
      "outputs": []
    },
    {
      "cell_type": "code",
      "metadata": {
        "id": "REMCEgaGsg-j",
        "colab_type": "code",
        "colab": {
          "base_uri": "https://localhost:8080/",
          "height": 54
        },
        "outputId": "ecd40f27-b550-496f-8ad3-0ca66c36ebaf"
      },
      "source": [
        "(x_train, y_train), (x_test, y_test) = tf.keras.datasets.mnist.load_data()"
      ],
      "execution_count": 4,
      "outputs": [
        {
          "output_type": "stream",
          "text": [
            "Downloading data from https://storage.googleapis.com/tensorflow/tf-keras-datasets/mnist.npz\n",
            "11493376/11490434 [==============================] - 0s 0us/step\n"
          ],
          "name": "stdout"
        }
      ]
    },
    {
      "cell_type": "code",
      "metadata": {
        "id": "vFre7vOougWF",
        "colab_type": "code",
        "colab": {}
      },
      "source": [
        "from tensorflow.keras import Sequential\n",
        "from tensorflow.keras import layers"
      ],
      "execution_count": 0,
      "outputs": []
    },
    {
      "cell_type": "code",
      "metadata": {
        "id": "LwYKEFChz4j0",
        "colab_type": "code",
        "colab": {}
      },
      "source": [
        "from tensorflow.keras.callbacks import ModelCheckpoint"
      ],
      "execution_count": 0,
      "outputs": []
    },
    {
      "cell_type": "code",
      "metadata": {
        "id": "geDVdewNtBGN",
        "colab_type": "code",
        "outputId": "66077e1e-2429-4b6e-880d-80f89294ab8f",
        "colab": {
          "base_uri": "https://localhost:8080/",
          "height": 73
        }
      },
      "source": [
        "print(x_train.shape)\n",
        "print(x_test.shape)\n",
        "print(y_train.shape)"
      ],
      "execution_count": 7,
      "outputs": [
        {
          "output_type": "stream",
          "text": [
            "(60000, 28, 28)\n",
            "(10000, 28, 28)\n",
            "(60000,)\n"
          ],
          "name": "stdout"
        }
      ]
    },
    {
      "cell_type": "code",
      "metadata": {
        "id": "TUsMwuE84qvI",
        "colab_type": "code",
        "outputId": "d2553372-0556-4f9a-83b4-8f52e2796bab",
        "colab": {
          "base_uri": "https://localhost:8080/",
          "height": 36
        }
      },
      "source": [
        "print(type(x_train))"
      ],
      "execution_count": 8,
      "outputs": [
        {
          "output_type": "stream",
          "text": [
            "<class 'numpy.ndarray'>\n"
          ],
          "name": "stdout"
        }
      ]
    },
    {
      "cell_type": "code",
      "metadata": {
        "id": "nYW9IC2J_EwF",
        "colab_type": "code",
        "outputId": "5eb6be3e-cfa6-4385-90f6-b42dcbb62892",
        "colab": {
          "base_uri": "https://localhost:8080/",
          "height": 36
        }
      },
      "source": [
        "print(type(x_test))"
      ],
      "execution_count": 9,
      "outputs": [
        {
          "output_type": "stream",
          "text": [
            "<class 'numpy.ndarray'>\n"
          ],
          "name": "stdout"
        }
      ]
    },
    {
      "cell_type": "code",
      "metadata": {
        "id": "uZIhKB6jtsAW",
        "colab_type": "code",
        "colab": {}
      },
      "source": [
        "x_train = np.expand_dims(x_train, axis=-1)\n",
        "x_test = np.expand_dims(x_test, axis=-1)"
      ],
      "execution_count": 0,
      "outputs": []
    },
    {
      "cell_type": "code",
      "metadata": {
        "id": "Bg05xKeft69h",
        "colab_type": "code",
        "outputId": "aa34ff72-51f5-4463-bae8-d8c2d7eac534",
        "colab": {
          "base_uri": "https://localhost:8080/",
          "height": 110
        }
      },
      "source": [
        "print(x_train.shape)\n",
        "print(x_train.dtype)\n",
        "print(x_test.dtype)\n",
        "print(x_test.shape)\n",
        "print(y_train.shape)"
      ],
      "execution_count": 11,
      "outputs": [
        {
          "output_type": "stream",
          "text": [
            "(60000, 28, 28, 1)\n",
            "uint8\n",
            "uint8\n",
            "(10000, 28, 28, 1)\n",
            "(60000,)\n"
          ],
          "name": "stdout"
        }
      ]
    },
    {
      "cell_type": "code",
      "metadata": {
        "id": "Ka68FizR4RRf",
        "colab_type": "code",
        "colab": {}
      },
      "source": [
        "num_classes = 10"
      ],
      "execution_count": 0,
      "outputs": []
    },
    {
      "cell_type": "code",
      "metadata": {
        "id": "6jhgR1zi-xxx",
        "colab_type": "code",
        "outputId": "7f28bae0-74b8-4491-e773-e10ab254fd40",
        "colab": {
          "base_uri": "https://localhost:8080/",
          "height": 54
        }
      },
      "source": [
        "x_test = x_test.astype(np.float32)\n",
        "x_test = x_test / 255.\n",
        "print(type(x_test))\n",
        "print(type(x_train))"
      ],
      "execution_count": 13,
      "outputs": [
        {
          "output_type": "stream",
          "text": [
            "<class 'numpy.ndarray'>\n",
            "<class 'numpy.ndarray'>\n"
          ],
          "name": "stdout"
        }
      ]
    },
    {
      "cell_type": "code",
      "metadata": {
        "id": "iBGPtUkE4LAT",
        "colab_type": "code",
        "colab": {}
      },
      "source": [
        "# convert class vectors to binary class matrices\n",
        "y_train = tf.keras.utils.to_categorical(y_train, num_classes)\n",
        "y_test = tf.keras.utils.to_categorical(y_test, num_classes)"
      ],
      "execution_count": 0,
      "outputs": []
    },
    {
      "cell_type": "code",
      "metadata": {
        "id": "nkAskVw53cQX",
        "colab_type": "code",
        "outputId": "c6a9fe56-ef28-4ebc-8d2a-955162a2e9c8",
        "colab": {
          "base_uri": "https://localhost:8080/",
          "height": 36
        }
      },
      "source": [
        "print(type(x_train))"
      ],
      "execution_count": 15,
      "outputs": [
        {
          "output_type": "stream",
          "text": [
            "<class 'numpy.ndarray'>\n"
          ],
          "name": "stdout"
        }
      ]
    },
    {
      "cell_type": "markdown",
      "metadata": {
        "id": "im-C0hk_uIQT",
        "colab_type": "text"
      },
      "source": [
        "# Do some data Augmentation"
      ]
    },
    {
      "cell_type": "code",
      "metadata": {
        "id": "UJLk-WPSxjra",
        "colab_type": "code",
        "colab": {}
      },
      "source": [
        "train_datagen = tf.keras.preprocessing.image.ImageDataGenerator(featurewise_center=False, samplewise_center=False, \n",
        "                                                          featurewise_std_normalization=False, samplewise_std_normalization=False, \n",
        "                                                          zca_whitening=False, zca_epsilon=1e-06, \n",
        "                                                          rotation_range=20, width_shift_range=0.2, height_shift_range=0.2, \n",
        "                                                          brightness_range=None, shear_range=0.2, zoom_range=0.3, channel_shift_range=0.0, \n",
        "                                                          fill_mode='nearest', cval=0.0, horizontal_flip=False, \n",
        "                                                          vertical_flip=False, rescale=1/255., preprocessing_function=None, data_format=None, \n",
        "                                                          validation_split=0.2, dtype=None)"
      ],
      "execution_count": 0,
      "outputs": []
    },
    {
      "cell_type": "code",
      "metadata": {
        "id": "6eG7UYM0yHro",
        "colab_type": "code",
        "colab": {}
      },
      "source": [
        "train_datagen.fit(x_train)"
      ],
      "execution_count": 0,
      "outputs": []
    },
    {
      "cell_type": "markdown",
      "metadata": {
        "id": "xpgC_Tw-wVeP",
        "colab_type": "text"
      },
      "source": [
        "# Build a CNN"
      ]
    },
    {
      "cell_type": "code",
      "metadata": {
        "id": "AblGUtWhuG5R",
        "colab_type": "code",
        "colab": {}
      },
      "source": [
        "def make_cnn():\n",
        "    model = Sequential()\n",
        "    model.add(layers.Conv2D(32, (3, 3), activation='relu', input_shape=(28, 28, 1)))\n",
        "    model.add(layers.MaxPooling2D((2, 2)))\n",
        "    model.add(layers.Dropout(0.3))\n",
        "    model.add(layers.Conv2D(64, (3, 3), activation='relu'))\n",
        "    model.add(layers.MaxPooling2D((2, 2)))\n",
        "    model.add(layers.Conv2D(64, (3, 3), activation='relu'))\n",
        "    model.add(layers.Conv2D(64, (3, 3), activation='relu'))\n",
        "\n",
        "    model.add(layers.Dropout(0.3))\n",
        "    model.add(layers.Flatten())\n",
        "    model.add(layers.Dense(256, activation='relu'))\n",
        "    model.add(layers.Dropout(0.3))\n",
        "    model.add(layers.Dense(10))\n",
        "\n",
        "    return model"
      ],
      "execution_count": 0,
      "outputs": []
    },
    {
      "cell_type": "code",
      "metadata": {
        "id": "cG6Ug1-hvPQC",
        "colab_type": "code",
        "colab": {}
      },
      "source": [
        "cnn = make_cnn()"
      ],
      "execution_count": 0,
      "outputs": []
    },
    {
      "cell_type": "code",
      "metadata": {
        "id": "SVHPUBRyvSF9",
        "colab_type": "code",
        "colab": {}
      },
      "source": [
        "cnn.summary()"
      ],
      "execution_count": 0,
      "outputs": []
    },
    {
      "cell_type": "code",
      "metadata": {
        "id": "AkTcaAQ9xCPp",
        "colab_type": "code",
        "colab": {}
      },
      "source": [
        "optim = tf.keras.optimizers.Adam()"
      ],
      "execution_count": 0,
      "outputs": []
    },
    {
      "cell_type": "code",
      "metadata": {
        "id": "PzmV_6C0xHpe",
        "colab_type": "code",
        "colab": {}
      },
      "source": [
        "loss_f = tf.keras.losses.BinaryCrossentropy(from_logits=True)"
      ],
      "execution_count": 0,
      "outputs": []
    },
    {
      "cell_type": "code",
      "metadata": {
        "id": "z-OKmP8Pw_rO",
        "colab_type": "code",
        "colab": {}
      },
      "source": [
        "cnn.compile(optimizer=optim, loss=loss_f, metrics=[\"acc\"])"
      ],
      "execution_count": 0,
      "outputs": []
    },
    {
      "cell_type": "code",
      "metadata": {
        "id": "8rfUQH19zrQt",
        "colab_type": "code",
        "colab": {}
      },
      "source": [
        "epochs = 25"
      ],
      "execution_count": 0,
      "outputs": []
    },
    {
      "cell_type": "code",
      "metadata": {
        "id": "MV7i6GYr2XpT",
        "colab_type": "code",
        "colab": {}
      },
      "source": [
        "batch_size = 32"
      ],
      "execution_count": 0,
      "outputs": []
    },
    {
      "cell_type": "code",
      "metadata": {
        "id": "JBa50UWm6Zkb",
        "colab_type": "code",
        "colab": {}
      },
      "source": [
        "checkpoint_path = \"training_2/cp-{epoch:04d}.ckpt\"\n",
        "checkpoint_dir = os.path.dirname(checkpoint_path)\n"
      ],
      "execution_count": 0,
      "outputs": []
    },
    {
      "cell_type": "code",
      "metadata": {
        "id": "00VIO2hZz3qN",
        "colab_type": "code",
        "colab": {}
      },
      "source": [
        "ckpt = ModelCheckpoint(checkpoint_path, monitor=\"val_loss\", verbose=1, save_best_only=True)\n",
        "callbacksl = [ckpt]"
      ],
      "execution_count": 0,
      "outputs": []
    },
    {
      "cell_type": "code",
      "metadata": {
        "id": "HBUss1mAxTUF",
        "colab_type": "code",
        "outputId": "96a3cb41-7d0e-4fff-b5c7-16b1f1a27da7",
        "colab": {
          "base_uri": "https://localhost:8080/",
          "height": 1000
        }
      },
      "source": [
        "history = cnn.fit(\n",
        "    train_datagen.flow(x_train, y_train, batch_size=32),\n",
        "    steps_per_epoch= x_train.shape[0] // batch_size,\n",
        "    epochs=epochs, batch_size = batch_size, callbacks=callbacksl, validation_data = (x_test, y_test)\n",
        "    )"
      ],
      "execution_count": 30,
      "outputs": [
        {
          "output_type": "stream",
          "text": [
            "Epoch 1/25\n",
            "1872/1875 [============================>.] - ETA: 0s - loss: 0.1805 - acc: 0.6003\n",
            "Epoch 00001: val_loss improved from inf to 0.02270, saving model to training_2/cp-0001.ckpt\n",
            "WARNING:tensorflow:From /usr/local/lib/python3.6/dist-packages/tensorflow/python/ops/resource_variable_ops.py:1817: calling BaseResourceVariable.__init__ (from tensorflow.python.ops.resource_variable_ops) with constraint is deprecated and will be removed in a future version.\n",
            "Instructions for updating:\n",
            "If using Keras pass *_constraint arguments to layers.\n",
            "INFO:tensorflow:Assets written to: training_2/cp-0001.ckpt/assets\n",
            "1875/1875 [==============================] - 35s 19ms/step - loss: 0.1804 - acc: 0.6006 - val_loss: 0.0227 - val_acc: 0.9651\n",
            "Epoch 2/25\n",
            "1874/1875 [============================>.] - ETA: 0s - loss: 0.0717 - acc: 0.8728\n",
            "Epoch 00002: val_loss improved from 0.02270 to 0.01305, saving model to training_2/cp-0002.ckpt\n",
            "INFO:tensorflow:Assets written to: training_2/cp-0002.ckpt/assets\n",
            "1875/1875 [==============================] - 33s 18ms/step - loss: 0.0717 - acc: 0.8728 - val_loss: 0.0131 - val_acc: 0.9774\n",
            "Epoch 3/25\n",
            "1875/1875 [==============================] - ETA: 0s - loss: 0.0528 - acc: 0.9101\n",
            "Epoch 00003: val_loss improved from 0.01305 to 0.01239, saving model to training_2/cp-0003.ckpt\n",
            "INFO:tensorflow:Assets written to: training_2/cp-0003.ckpt/assets\n",
            "1875/1875 [==============================] - 34s 18ms/step - loss: 0.0528 - acc: 0.9101 - val_loss: 0.0124 - val_acc: 0.9808\n",
            "Epoch 4/25\n",
            "1875/1875 [==============================] - ETA: 0s - loss: 0.0457 - acc: 0.9233\n",
            "Epoch 00004: val_loss improved from 0.01239 to 0.01150, saving model to training_2/cp-0004.ckpt\n",
            "INFO:tensorflow:Assets written to: training_2/cp-0004.ckpt/assets\n",
            "1875/1875 [==============================] - 34s 18ms/step - loss: 0.0457 - acc: 0.9233 - val_loss: 0.0115 - val_acc: 0.9798\n",
            "Epoch 5/25\n",
            "1874/1875 [============================>.] - ETA: 0s - loss: 0.0403 - acc: 0.9325\n",
            "Epoch 00005: val_loss improved from 0.01150 to 0.00941, saving model to training_2/cp-0005.ckpt\n",
            "INFO:tensorflow:Assets written to: training_2/cp-0005.ckpt/assets\n",
            "1875/1875 [==============================] - 33s 18ms/step - loss: 0.0403 - acc: 0.9324 - val_loss: 0.0094 - val_acc: 0.9832\n",
            "Epoch 6/25\n",
            "1875/1875 [==============================] - ETA: 0s - loss: 0.0362 - acc: 0.9399\n",
            "Epoch 00006: val_loss did not improve from 0.00941\n",
            "1875/1875 [==============================] - 32s 17ms/step - loss: 0.0362 - acc: 0.9399 - val_loss: 0.0100 - val_acc: 0.9843\n",
            "Epoch 7/25\n",
            "1873/1875 [============================>.] - ETA: 0s - loss: 0.0329 - acc: 0.9459\n",
            "Epoch 00007: val_loss improved from 0.00941 to 0.00732, saving model to training_2/cp-0007.ckpt\n",
            "INFO:tensorflow:Assets written to: training_2/cp-0007.ckpt/assets\n",
            "1875/1875 [==============================] - 35s 19ms/step - loss: 0.0329 - acc: 0.9459 - val_loss: 0.0073 - val_acc: 0.9881\n",
            "Epoch 8/25\n",
            "1873/1875 [============================>.] - ETA: 0s - loss: 0.0319 - acc: 0.9485\n",
            "Epoch 00008: val_loss improved from 0.00732 to 0.00683, saving model to training_2/cp-0008.ckpt\n",
            "INFO:tensorflow:Assets written to: training_2/cp-0008.ckpt/assets\n",
            "1875/1875 [==============================] - 33s 18ms/step - loss: 0.0319 - acc: 0.9485 - val_loss: 0.0068 - val_acc: 0.9890\n",
            "Epoch 9/25\n",
            "1872/1875 [============================>.] - ETA: 0s - loss: 0.0302 - acc: 0.9509\n",
            "Epoch 00009: val_loss did not improve from 0.00683\n",
            "1875/1875 [==============================] - 33s 17ms/step - loss: 0.0302 - acc: 0.9509 - val_loss: 0.0083 - val_acc: 0.9867\n",
            "Epoch 10/25\n",
            "1875/1875 [==============================] - ETA: 0s - loss: 0.0289 - acc: 0.9535\n",
            "Epoch 00010: val_loss improved from 0.00683 to 0.00671, saving model to training_2/cp-0010.ckpt\n",
            "INFO:tensorflow:Assets written to: training_2/cp-0010.ckpt/assets\n",
            "1875/1875 [==============================] - 34s 18ms/step - loss: 0.0289 - acc: 0.9535 - val_loss: 0.0067 - val_acc: 0.9892\n",
            "Epoch 11/25\n",
            "1875/1875 [==============================] - ETA: 0s - loss: 0.0287 - acc: 0.9536\n",
            "Epoch 00011: val_loss did not improve from 0.00671\n",
            "1875/1875 [==============================] - 32s 17ms/step - loss: 0.0287 - acc: 0.9536 - val_loss: 0.0076 - val_acc: 0.9890\n",
            "Epoch 12/25\n",
            "1873/1875 [============================>.] - ETA: 0s - loss: 0.0272 - acc: 0.9564\n",
            "Epoch 00012: val_loss improved from 0.00671 to 0.00519, saving model to training_2/cp-0012.ckpt\n",
            "INFO:tensorflow:Assets written to: training_2/cp-0012.ckpt/assets\n",
            "1875/1875 [==============================] - 34s 18ms/step - loss: 0.0272 - acc: 0.9564 - val_loss: 0.0052 - val_acc: 0.9921\n",
            "Epoch 13/25\n",
            "1873/1875 [============================>.] - ETA: 0s - loss: 0.0274 - acc: 0.9569\n",
            "Epoch 00013: val_loss did not improve from 0.00519\n",
            "1875/1875 [==============================] - 32s 17ms/step - loss: 0.0274 - acc: 0.9569 - val_loss: 0.0062 - val_acc: 0.9903\n",
            "Epoch 14/25\n",
            "1874/1875 [============================>.] - ETA: 0s - loss: 0.0256 - acc: 0.9583\n",
            "Epoch 00014: val_loss did not improve from 0.00519\n",
            "1875/1875 [==============================] - 32s 17ms/step - loss: 0.0256 - acc: 0.9583 - val_loss: 0.0070 - val_acc: 0.9891\n",
            "Epoch 15/25\n",
            "1875/1875 [==============================] - ETA: 0s - loss: 0.0254 - acc: 0.9587\n",
            "Epoch 00015: val_loss improved from 0.00519 to 0.00508, saving model to training_2/cp-0015.ckpt\n",
            "INFO:tensorflow:Assets written to: training_2/cp-0015.ckpt/assets\n",
            "1875/1875 [==============================] - 34s 18ms/step - loss: 0.0254 - acc: 0.9587 - val_loss: 0.0051 - val_acc: 0.9913\n",
            "Epoch 16/25\n",
            "1873/1875 [============================>.] - ETA: 0s - loss: 0.0254 - acc: 0.9590\n",
            "Epoch 00016: val_loss did not improve from 0.00508\n",
            "1875/1875 [==============================] - 34s 18ms/step - loss: 0.0255 - acc: 0.9589 - val_loss: 0.0066 - val_acc: 0.9900\n",
            "Epoch 17/25\n",
            "1875/1875 [==============================] - ETA: 0s - loss: 0.0244 - acc: 0.9611\n",
            "Epoch 00017: val_loss did not improve from 0.00508\n",
            "1875/1875 [==============================] - 36s 19ms/step - loss: 0.0244 - acc: 0.9611 - val_loss: 0.0067 - val_acc: 0.9898\n",
            "Epoch 18/25\n",
            "1875/1875 [==============================] - ETA: 0s - loss: 0.0242 - acc: 0.9613\n",
            "Epoch 00018: val_loss did not improve from 0.00508\n",
            "1875/1875 [==============================] - 32s 17ms/step - loss: 0.0242 - acc: 0.9613 - val_loss: 0.0071 - val_acc: 0.9891\n",
            "Epoch 19/25\n",
            "1873/1875 [============================>.] - ETA: 0s - loss: 0.0239 - acc: 0.9616\n",
            "Epoch 00019: val_loss did not improve from 0.00508\n",
            "1875/1875 [==============================] - 34s 18ms/step - loss: 0.0238 - acc: 0.9617 - val_loss: 0.0052 - val_acc: 0.9917\n",
            "Epoch 20/25\n",
            "1872/1875 [============================>.] - ETA: 0s - loss: 0.0233 - acc: 0.9625\n",
            "Epoch 00020: val_loss did not improve from 0.00508\n",
            "1875/1875 [==============================] - 35s 19ms/step - loss: 0.0233 - acc: 0.9625 - val_loss: 0.0071 - val_acc: 0.9899\n",
            "Epoch 21/25\n",
            "1874/1875 [============================>.] - ETA: 0s - loss: 0.0234 - acc: 0.9628\n",
            "Epoch 00021: val_loss did not improve from 0.00508\n",
            "1875/1875 [==============================] - 32s 17ms/step - loss: 0.0234 - acc: 0.9628 - val_loss: 0.0057 - val_acc: 0.9909\n",
            "Epoch 22/25\n",
            "1874/1875 [============================>.] - ETA: 0s - loss: 0.0224 - acc: 0.9640\n",
            "Epoch 00022: val_loss did not improve from 0.00508\n",
            "1875/1875 [==============================] - 34s 18ms/step - loss: 0.0223 - acc: 0.9640 - val_loss: 0.0051 - val_acc: 0.9922\n",
            "Epoch 23/25\n",
            "1872/1875 [============================>.] - ETA: 0s - loss: 0.0226 - acc: 0.9648\n",
            "Epoch 00023: val_loss did not improve from 0.00508\n",
            "1875/1875 [==============================] - 36s 19ms/step - loss: 0.0226 - acc: 0.9648 - val_loss: 0.0054 - val_acc: 0.9913\n",
            "Epoch 24/25\n",
            "1872/1875 [============================>.] - ETA: 0s - loss: 0.0222 - acc: 0.9655\n",
            "Epoch 00024: val_loss did not improve from 0.00508\n",
            "1875/1875 [==============================] - 37s 20ms/step - loss: 0.0222 - acc: 0.9655 - val_loss: 0.0058 - val_acc: 0.9899\n",
            "Epoch 25/25\n",
            "1874/1875 [============================>.] - ETA: 0s - loss: 0.0221 - acc: 0.9651\n",
            "Epoch 00025: val_loss improved from 0.00508 to 0.00485, saving model to training_2/cp-0025.ckpt\n",
            "INFO:tensorflow:Assets written to: training_2/cp-0025.ckpt/assets\n",
            "1875/1875 [==============================] - 37s 20ms/step - loss: 0.0221 - acc: 0.9652 - val_loss: 0.0048 - val_acc: 0.9923\n"
          ],
          "name": "stdout"
        }
      ]
    },
    {
      "cell_type": "code",
      "metadata": {
        "id": "yM3aTh3a26fu",
        "colab_type": "code",
        "colab": {}
      },
      "source": [
        "# # not required thoough\n",
        "# tf.keras.models.save_model(\n",
        "#     cnn, \"/content/final_model.h5\", overwrite=True, include_optimizer=True, save_format=None,\n",
        "#     signatures=None, options=None\n",
        "# )"
      ],
      "execution_count": 0,
      "outputs": []
    },
    {
      "cell_type": "code",
      "metadata": {
        "id": "R-8o-kSB_xWc",
        "colab_type": "code",
        "colab": {
          "base_uri": "https://localhost:8080/",
          "height": 36
        },
        "outputId": "b87c5fda-5511-4d64-98b4-064b3664ea21"
      },
      "source": [
        "print(checkpoint_dir)"
      ],
      "execution_count": 34,
      "outputs": [
        {
          "output_type": "stream",
          "text": [
            "training_2\n"
          ],
          "name": "stdout"
        }
      ]
    },
    {
      "cell_type": "code",
      "metadata": {
        "id": "iGQPh6q-HTYs",
        "colab_type": "code",
        "colab": {}
      },
      "source": [
        "# best_model =  tf.train.latest_checkpoint(\"content//training_2//cp-0025.ckpt//\")"
      ],
      "execution_count": 0,
      "outputs": []
    },
    {
      "cell_type": "code",
      "metadata": {
        "id": "j5hQXzDP_ooL",
        "colab_type": "code",
        "colab": {
          "base_uri": "https://localhost:8080/",
          "height": 36
        },
        "outputId": "ccde7663-9d62-4155-d807-8852884f21d0"
      },
      "source": [
        "# print(best_model)"
      ],
      "execution_count": 51,
      "outputs": [
        {
          "output_type": "stream",
          "text": [
            "None\n"
          ],
          "name": "stdout"
        }
      ]
    },
    {
      "cell_type": "code",
      "metadata": {
        "id": "sf3E9S-G_lcy",
        "colab_type": "code",
        "colab": {
          "base_uri": "https://localhost:8080/",
          "height": 36
        },
        "outputId": "84ecdf80-4e25-4ba8-f445-b469a26cd430"
      },
      "source": [
        "# Just to have an extra end model\n",
        "cnn.save('saved_model/my_model') "
      ],
      "execution_count": 45,
      "outputs": [
        {
          "output_type": "stream",
          "text": [
            "INFO:tensorflow:Assets written to: saved_model/my_model/assets\n"
          ],
          "name": "stdout"
        }
      ]
    },
    {
      "cell_type": "code",
      "metadata": {
        "id": "uRpGz_0cAmm4",
        "colab_type": "code",
        "colab": {
          "base_uri": "https://localhost:8080/",
          "height": 147
        },
        "outputId": "3fb4fc1e-ecff-4cf0-9bc9-dab6830b2676"
      },
      "source": [
        "# Use the last checkpoint\n",
        "!zip -r best_model.zip /content/training_2/cp-0025.ckpt"
      ],
      "execution_count": 53,
      "outputs": [
        {
          "output_type": "stream",
          "text": [
            "  adding: content/training_2/cp-0025.ckpt/ (stored 0%)\n",
            "  adding: content/training_2/cp-0025.ckpt/saved_model.pb (deflated 89%)\n",
            "  adding: content/training_2/cp-0025.ckpt/variables/ (stored 0%)\n",
            "  adding: content/training_2/cp-0025.ckpt/variables/variables.index (deflated 69%)\n",
            "  adding: content/training_2/cp-0025.ckpt/variables/variables.data-00000-of-00002 (deflated 81%)\n",
            "  adding: content/training_2/cp-0025.ckpt/variables/variables.data-00001-of-00002 (deflated 14%)\n",
            "  adding: content/training_2/cp-0025.ckpt/assets/ (stored 0%)\n"
          ],
          "name": "stdout"
        }
      ]
    },
    {
      "cell_type": "code",
      "metadata": {
        "id": "vhbw_HP0A9Yx",
        "colab_type": "code",
        "colab": {}
      },
      "source": [
        ""
      ],
      "execution_count": 0,
      "outputs": []
    }
  ]
}